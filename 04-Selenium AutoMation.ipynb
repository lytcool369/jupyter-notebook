{
 "cells": [
  {
   "cell_type": "code",
   "execution_count": 9,
   "metadata": {},
   "outputs": [],
   "source": [
    "from selenium import webdriver\n",
    "# copy \"selecter\" 와 \"xpath\"를 번갈아 사용함\n",
    "# 크롬 브라우저 실행\n",
    "driver = webdriver.Chrome(\"D:/data-science/driver/chromedriver.exe\")\n",
    "# www.naver.com 에 접속\n",
    "driver.get(\"http://www.naver.com\")\n",
    "# 잠시 대기 (3초)\n",
    "driver.implicitly_wait(3)\n",
    "\n",
    "# 로그인 버튼의 Xpath: //*[@id=\"account\"]/a\n",
    "btn_login = driver.find_elements_by_xpath(\"//*[@id=\\\"account\\\"]/a\")[0]\n",
    "# 클릭 이벤트 전송\n",
    "btn_login.click()\n",
    "\n",
    "driver.implicitly_wait(3)\n",
    "\n",
    "# 아이디 입력창을 찾아서 키보드 입력을 전송\n",
    "input_id = driver.find_elements_by_css_selector(\"#id\")[0]\n",
    "input_id.send_keys(\"naver_id\")\n",
    "# 비밀번호 입력창을 찾아서 키보드 입력을 전송\n",
    "input_pw = driver.find_element_by_xpath(\"//*[@id=\\\"pw\\\"]\")\n",
    "input_pw.send_keys(\"naver_pw\")\n",
    "# 로그인 버튼을 누름 (위험하니까 주석처리)\n",
    "# btn_submit = driver.find_element_by_xpath(\"//*[@id=\\\"log.login\\\"]\")\n",
    "# btn_submit.click()"
   ]
  },
  {
   "cell_type": "code",
   "execution_count": 11,
   "metadata": {
    "scrolled": true
   },
   "outputs": [
    {
     "name": "stdout",
     "output_type": "stream",
     "text": [
      "검색 페이지의 소스\n"
     ]
    }
   ],
   "source": [
    "# 네이버에 접속\n",
    "driver = webdriver.Chrome(\"D:/data-science/driver/chromedriver.exe\")\n",
    "driver.get(\"http://www.naver.com\")\n",
    "driver.implicitly_wait(3)\n",
    "# 검색어 창에 검색어를 입력\n",
    "input_search = driver.find_element_by_css_selector(\"#query\")\n",
    "input_search.send_keys(\"갤럭시 FE\")\n",
    "# 검색 버튼 클릭\n",
    "btn_submit = driver.find_element_by_css_selector(\"#search_btn\")\n",
    "btn_submit.click()\n",
    "\n",
    "# 페이지 소스 확보\n",
    "from bs4 import BeautifulSoup\n",
    "\n",
    "print(\"검색 페이지의 소스\")\n",
    "\n",
    "html_text = driver.page_source\n",
    "dom = BeautifulSoup(html_text)\n",
    "\n",
    "# print(dom.prettify())\n",
    "# 여기서부터 데이터 수집 작업을 진행"
   ]
  }
 ],
 "metadata": {
  "kernelspec": {
   "display_name": "Python 3",
   "language": "python",
   "name": "python3"
  },
  "language_info": {
   "codemirror_mode": {
    "name": "ipython",
    "version": 3
   },
   "file_extension": ".py",
   "mimetype": "text/x-python",
   "name": "python",
   "nbconvert_exporter": "python",
   "pygments_lexer": "ipython3",
   "version": "3.7.3"
  }
 },
 "nbformat": 4,
 "nbformat_minor": 4
}
