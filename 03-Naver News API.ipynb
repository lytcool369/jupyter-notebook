{
 "cells": [
  {
   "cell_type": "code",
   "execution_count": 30,
   "metadata": {},
   "outputs": [
    {
     "name": "stdout",
     "output_type": "stream",
     "text": [
      "API 요청 URL:  https://openapi.naver.com/v1/search/news.json?query=%EC%BD%94%EB%A1%9C%EB%82%98\n",
      "Success\n"
     ]
    }
   ],
   "source": [
    "from urllib.request import Request\n",
    "from urllib.parse import quote\n",
    "import urllib\n",
    "\n",
    "# 요청을 위한 id와 secret\n",
    "client_id = \"4DrWPaV9BP8pFBFqKhMz\"\n",
    "client_secret = \"nmza38v0Ox\"\n",
    "\n",
    "# 검색어 인코딩\n",
    "enc_text = quote(\"코로나\")\n",
    "url = f\"https://openapi.naver.com/v1/search/news.json?query={enc_text}\"\n",
    "print(\"API 요청 URL: \", url)\n",
    "\n",
    "# 요청 생성\n",
    "req = Request(url)\n",
    "# API 접근을 위한 인증 정보를 header에 수록\n",
    "req.add_header(\"X-Naver-Client-Id\", client_id)\n",
    "req.add_header(\"X-Naver-Client-Secret\", client_secret)\n",
    "\n",
    "# 응답\n",
    "resp = urllib.request.urlopen(req)\n",
    "respcode = resp.getcode()\n",
    "\n",
    "if respcode == 200:\n",
    "    resp_body = resp.read().decode(\"utf-8\")\n",
    "    print(\"Success\")\n",
    "else:\n",
    "    print(\"HTTP-Error: %d\" % respcode)  "
   ]
  },
  {
   "cell_type": "code",
   "execution_count": 31,
   "metadata": {},
   "outputs": [
    {
     "name": "stdout",
     "output_type": "stream",
     "text": [
      "[네이버 뉴스 검색 결과]\n",
      "유진그룹 '동양', 연이은 수주 낭보에 성장가도 - http://www.fnnews.com/news/202010061517405783\n",
      "삼성, 인도서 中샤오미 제치고 스마트폰시장 3개월 연속 1위 - http://news.mk.co.kr/newsRead.php?no=1021884&year=2020\n",
      "中企 판로 개척·소상공인 금융 지원…'든든한 안전판' 공기업이 간다 - https://www.hankyung.com/economy/article/2020100678351\n",
      "구조조정 딛고 채용 늘리는 해운업계 '인재가 경쟁력' - http://www.fnnews.com/news/202010061233415006\n",
      "트럼프, 사흘만에 퇴원…“코로나 두려워 말라” - http://www.skyedaily.com/news/news_view.html?ID=113245\n",
      "코로나가 만든 화상 국정감사 준비 - http://www.newsis.com/view/?id=NISI20201006_0016753610\n",
      "긴 장마에 물가 반년만에 1%대 올라…집세도 25개월만에 최대 상승 - https://www.seoul.co.kr/news/newsView.php?id=20201006500107&wlog_tag3=naver\n",
      "[포토]'코로나19 예방과 방역, 국정감사 D-1' - http://www.edaily.co.kr/news/newspath.asp?newsid=03339046625930296\n",
      "코로나가 만든 화상 국정감사 준비 - http://www.newsis.com/view/?id=NISI20201006_0016753608\n",
      "코로나가 만든 화상 국정감사 준비 - http://www.newsis.com/view/?id=NISI20201006_0016753607\n"
     ]
    }
   ],
   "source": [
    "# 응답 확인\n",
    "# print(resp_body)\n",
    "\n",
    "# json text -> json object\n",
    "import json\n",
    "from html import unescape  # html 특수 문자 -> 원래 문자로\n",
    "\n",
    "json_obj = json.loads(resp_body)\n",
    "# print(type(json_obj), \"\\nJSON: \", json_obj)\n",
    "json_items = json_obj[\"items\"]\n",
    "# print(json_items)\n",
    "\n",
    "# title과 description 내의 태그 제거\n",
    "import re\n",
    "\n",
    "def remove_tag(html):\n",
    "    \"태그 제거용 함수\"\n",
    "    tag_pattern = re.compile(r\"<[^>]+>\")\n",
    "    return tag_pattern.sub('', unescape(html))\n",
    "\n",
    "news_list = []\n",
    "\n",
    "for item in json_items:\n",
    "    news = {\n",
    "        \"title\": remove_tag(item[\"title\"]),\n",
    "        \"link\": item[\"originallink\"],\n",
    "        \"description\": remove_tag(item[\"description\"])\n",
    "    }\n",
    "    news_list.append(news)\n",
    "\n",
    "print(\"[네이버 뉴스 검색 결과]\")\n",
    "\n",
    "for news in news_list:\n",
    "    print(f\"{news['title']} - {news['link']}\")"
   ]
  }
 ],
 "metadata": {
  "kernelspec": {
   "display_name": "Python 3",
   "language": "python",
   "name": "python3"
  },
  "language_info": {
   "codemirror_mode": {
    "name": "ipython",
    "version": 3
   },
   "file_extension": ".py",
   "mimetype": "text/x-python",
   "name": "python",
   "nbconvert_exporter": "python",
   "pygments_lexer": "ipython3",
   "version": "3.7.3"
  }
 },
 "nbformat": 4,
 "nbformat_minor": 4
}
