{
 "cells": [
  {
   "cell_type": "code",
   "execution_count": null,
   "metadata": {},
   "outputs": [],
   "source": [
    "numpy 배열 만들기\n",
    "python의 리스트를 이용한 생성\n",
    " 각 값들은 (양의 정수) 튜플 형태로 인덱싱됨\n",
    "shape는 각 차원의 크기를 튜플로 반환\n",
    "rank는 배열이 몇 차원인지 의미\n",
    "다차원 배열을 만들기 위해서는 리스트를 중첩하여 생성"
   ]
  },
  {
   "cell_type": "code",
   "execution_count": 5,
   "metadata": {},
   "outputs": [
    {
     "name": "stdout",
     "output_type": "stream",
     "text": [
      "arr type?  <class 'numpy.ndarray'>\n",
      "arr의 shape:  (3,)\n",
      "\n",
      "[[1 2 3]\n",
      " [4 5 6]\n",
      " [7 8 9]]\n",
      "arr2d의 shape:  (3, 3)\n",
      "\n",
      "[[[ 1  2  3]\n",
      "  [ 4  5  6]\n",
      "  [ 7  8  9]]\n",
      "\n",
      " [[10 11 12]\n",
      "  [13 14 15]\n",
      "  [16 17 18]]]\n",
      "arr3d의 shape:  (2, 3, 3)\n",
      "\n"
     ]
    }
   ],
   "source": [
    "import numpy as np\n",
    "\n",
    "#Python의 리스트를 이용한 생성 방법\n",
    "arr = np.array([1, 2, 3])\n",
    "print(\"arr type? \", type(arr))\n",
    "shape = arr.shape\n",
    "print(\"arr의 shape: \", shape)   # rank가 1인 배열\n",
    "print(\"\")\n",
    "\n",
    "# 2차원 배열\n",
    "arr2d = np.array([\n",
    "    [1, 2, 3],\n",
    "    [4, 5, 6],\n",
    "    [7, 8, 9]\n",
    "])\n",
    "print(arr2d)\n",
    "print(\"arr2d의 shape: \", arr2d.shape)   # rank가 2인 배열\n",
    "print(\"\")\n",
    "\n",
    "# 3차원 배열\n",
    "arr3d = np.array([\n",
    "    [\n",
    "        [1, 2, 3],\n",
    "        [4, 5, 6],\n",
    "        [7, 8, 9]\n",
    "    ],\n",
    "    [\n",
    "        [10, 11, 12],\n",
    "        [13, 14, 15],\n",
    "        [16, 17, 18]\n",
    "    ]\n",
    "])\n",
    "print(arr3d)\n",
    "print(\"arr3d의 shape: \", arr3d.shape)   # rank가 3인 배열\n",
    "print(\"\")"
   ]
  },
  {
   "cell_type": "code",
   "execution_count": null,
   "metadata": {},
   "outputs": [],
   "source": [
    "# array를 만드는 다양한 방법\n",
    "arr = np.zeros((2, 2))   # 2 * 2 의 0으로 채워진 rank 2의 배열\n",
    "print(\"zeros: \", arr)\n",
    "arr = np.ones((2, 2))   # 2 * 2 의 1로 채워진 rank 2의 배열\n",
    "print(\"ones: \", arr)\n",
    "arr = np.full((2, 2), 7)   # 2 * 2 의 상수 7로 채워진 rank 2의 배열\n",
    "print(\"full: \", arr)\n",
    "arr = np.eye(2)   # 2 * 2 의 단위 행렬\n",
    "print(\"eye: \", arr)\n",
    "\n",
    "arr = np.array([\n",
    "    [1, 2, 3],\n",
    "    [4, 5, 6]\n",
    "])\n",
    "el = np.empty_like(arr)  # arr과 shape가 동일한 초기화 되지 않은 배열 생성\n",
    "print(\"el: \", el)\n",
    "print(\"arr.shape == el.shape ? \", arr.shape == el.shape)"
   ]
  },
  {
   "cell_type": "markdown",
   "metadata": {},
   "source": [
    "- 범위 벡터의 생성\n",
    "    - arange(): 범위 값으로 배열 만들기\n",
    "    - linspace(): 선형 간격의 벡터 만들기\n",
    "    - logspace(): 로그 간격의 벡터 만들기"
   ]
  },
  {
   "cell_type": "code",
   "execution_count": 19,
   "metadata": {},
   "outputs": [
    {
     "name": "stdout",
     "output_type": "stream",
     "text": [
      "[ 0  1  2  3  4  5  6  7  8  9 10 11 12 13 14 15 16 17 18 19 20 21 22 23\n",
      " 24 25 26 27 28 29 30 31 32 33 34 35 36 37 38 39 40 41 42 43 44 45 46 47\n",
      " 48 49 50 51 52 53 54 55 56 57 58 59 60 61 62 63 64 65 66 67 68 69 70 71\n",
      " 72 73 74 75 76 77 78 79 80 81 82 83 84 85 86 87 88 89 90 91 92 93 94 95\n",
      " 96 97 98 99] \n",
      "\n",
      "\n",
      "[0.         0.01010101 0.02020202 0.03030303 0.04040404 0.05050505\n",
      " 0.06060606 0.07070707 0.08080808 0.09090909 0.1010101  0.11111111\n",
      " 0.12121212 0.13131313 0.14141414 0.15151515 0.16161616 0.17171717\n",
      " 0.18181818 0.19191919 0.2020202  0.21212121 0.22222222 0.23232323\n",
      " 0.24242424 0.25252525 0.26262626 0.27272727 0.28282828 0.29292929\n",
      " 0.3030303  0.31313131 0.32323232 0.33333333 0.34343434 0.35353535\n",
      " 0.36363636 0.37373737 0.38383838 0.39393939 0.4040404  0.41414141\n",
      " 0.42424242 0.43434343 0.44444444 0.45454545 0.46464646 0.47474747\n",
      " 0.48484848 0.49494949 0.50505051 0.51515152 0.52525253 0.53535354\n",
      " 0.54545455 0.55555556 0.56565657 0.57575758 0.58585859 0.5959596\n",
      " 0.60606061 0.61616162 0.62626263 0.63636364 0.64646465 0.65656566\n",
      " 0.66666667 0.67676768 0.68686869 0.6969697  0.70707071 0.71717172\n",
      " 0.72727273 0.73737374 0.74747475 0.75757576 0.76767677 0.77777778\n",
      " 0.78787879 0.7979798  0.80808081 0.81818182 0.82828283 0.83838384\n",
      " 0.84848485 0.85858586 0.86868687 0.87878788 0.88888889 0.8989899\n",
      " 0.90909091 0.91919192 0.92929293 0.93939394 0.94949495 0.95959596\n",
      " 0.96969697 0.97979798 0.98989899 1.        ] \n",
      "\n",
      "\n",
      "[ 1.          1.02353102  1.04761575  1.07226722  1.09749877  1.12332403\n",
      "  1.149757    1.17681195  1.20450354  1.23284674  1.26185688  1.29154967\n",
      "  1.32194115  1.35304777  1.38488637  1.41747416  1.45082878  1.48496826\n",
      "  1.51991108  1.55567614  1.59228279  1.62975083  1.66810054  1.70735265\n",
      "  1.7475284   1.78864953  1.83073828  1.87381742  1.91791026  1.96304065\n",
      "  2.009233    2.05651231  2.10490414  2.15443469  2.20513074  2.25701972\n",
      "  2.3101297   2.36448941  2.42012826  2.47707636  2.53536449  2.59502421\n",
      "  2.65608778  2.71858824  2.7825594   2.84803587  2.91505306  2.98364724\n",
      "  3.05385551  3.12571585  3.19926714  3.27454916  3.35160265  3.43046929\n",
      "  3.51119173  3.59381366  3.67837977  3.76493581  3.85352859  3.94420606\n",
      "  4.03701726  4.1320124   4.22924287  4.32876128  4.43062146  4.53487851\n",
      "  4.64158883  4.75081016  4.86260158  4.97702356  5.09413801  5.21400829\n",
      "  5.33669923  5.46227722  5.59081018  5.72236766  5.85702082  5.9948425\n",
      "  6.13590727  6.28029144  6.42807312  6.57933225  6.73415066  6.8926121\n",
      "  7.05480231  7.22080902  7.39072203  7.56463328  7.74263683  7.92482898\n",
      "  8.11130831  8.30217568  8.49753436  8.69749003  8.90215085  9.11162756\n",
      "  9.32603347  9.54548457  9.77009957 10.        ] \n",
      "\n",
      "\n"
     ]
    }
   ],
   "source": [
    "# 범위 벡터를 만들기\n",
    "arr = np.arange(100)   # 0부터 99까지의 범위 벡터\n",
    "print(arr, \"\\n\\n\")\n",
    "arr= np.linspace(0, 1, 100)  # 0부터 1까지의 범위를 100개로 선형 분할\n",
    "print(arr, \"\\n\\n\")\n",
    "arr= np.logspace(0, 1, 100)  # 0부터 1까지의 범위를 100개로 그로 분할\n",
    "print(arr, \"\\n\\n\")"
   ]
  },
  {
   "cell_type": "markdown",
   "metadata": {},
   "source": [
    "# array의 타입\n",
    "    - numpy의 array는 한 가지 타입만 담을 수 있다\n",
    "        - 데이터 타입을 지정하지 않으면 임의로 적절한 데이터 타입을 선택\n",
    "        - dtype 옵션으로 array의 타입을 체크할 수 있다\n",
    "        - array 생성 시 dtype옵션 파라미터로 데이터 타입을 강제할 수 있다.\n",
    "        - astype() 메서드를 이용하면 다른 데이터 타입으로 변경할 수 있다\n",
    "    - numpy 자료형 참조 페이지: https://docs/scipy/org/doc/numpy/reference/arrays.dtypes.html"
   ]
  },
  {
   "cell_type": "code",
   "execution_count": 31,
   "metadata": {},
   "outputs": [
    {
     "name": "stdout",
     "output_type": "stream",
     "text": [
      "[1. 1.]\n",
      "dtype of arr:  float64 \n",
      "\n",
      "[1 1]\n",
      "dtype of arr:  int32 \n",
      "\n",
      "[1. 1.]\n",
      "dtype of arr:  float32 \n",
      "\n"
     ]
    }
   ],
   "source": [
    "# array의 타입 체크, 변경\n",
    "# 데이터 타입을 지정하지 않으면 임의로 설정\n",
    "arr = np.ones(2)  \n",
    "print(arr)\n",
    "print(\"dtype of arr: \", arr.dtype, \"\\n\")\n",
    "\n",
    "# array 생성 시, dtype으로 내부 데이터 타입을 지정\n",
    "arr = np.ones(2, dtype=int)  \n",
    "print(arr)\n",
    "print(\"dtype of arr: \", arr.dtype, \"\\n\")\n",
    "\n",
    "# astype() 메서드를 이용, 다른 데이터 타입으로 변경 가능\n",
    "arr2 = arr.astype(np.float32)  \n",
    "print(arr2)\n",
    "print(\"dtype of arr: \", arr2.dtype, \"\\n\")"
   ]
  },
  {
   "cell_type": "markdown",
   "metadata": {},
   "source": [
    "# array의 재구성\n",
    "- 생성된 array는 다양한 형대로 변경\n",
    "    - resh"
   ]
  },
  {
   "cell_type": "code",
   "execution_count": 28,
   "metadata": {},
   "outputs": [
    {
     "name": "stdout",
     "output_type": "stream",
     "text": [
      "arr1d:  [ 0  1  2  3  4  5  6  7  8  9 10 11 12 13 14 15 16 17 18 19 20 21 22 23\n",
      " 24]\n",
      "arr2d:  [[ 0  1  2  3  4]\n",
      " [ 5  6  7  8  9]\n",
      " [10 11 12 13 14]\n",
      " [15 16 17 18 19]\n",
      " [20 21 22 23 24]]\n",
      "\n",
      "\n",
      "flatten:  [ 0  1  2  3  4  5  6  7  8  9 10 11 12 13 14 15 16 17 18 19 20 21 22 23\n",
      " 24]\n",
      "[[ 0  5 10 15 20]\n",
      " [ 1  6 11 16 21]\n",
      " [ 2  7 12 17 22]\n",
      " [ 3  8 13 18 23]\n",
      " [ 4  9 14 19 24]]\n",
      "[[ 0  5 10 15 20]\n",
      " [ 1  6 11 16 21]\n",
      " [ 2  7 12 17 22]\n",
      " [ 3  8 13 18 23]\n",
      " [ 4  9 14 19 24]]\n"
     ]
    }
   ],
   "source": [
    "# array 재구성\n",
    "arr1d = np.arange(25)\n",
    "print(\"arr1d: \", arr1d)  # 1차원 배열\n",
    "arr2d = arr1d.reshape(5, 5)   # arr1d -> 5 * 5의 2차원 배열로 형태 변환\n",
    "print(\"arr2d: \", arr2d)\n",
    "print(\"\\n\")\n",
    "\n",
    "# 형태 변환 시 요소의 갯수가 모자라면 에러\n",
    "# arr3d = arr2d.reshape(4, 4, 4)   # ValueError\n",
    "\n",
    "# 다차원 배열의 요소를 1차원 형태로 변환\n",
    "flatten = arr2d.ravel()\n",
    "print(\"flatten: \", flatten)\n",
    "\n",
    "# 행렬의 전치(열과 행을 바꿈)\n",
    "print(arr2d.transpose())\n",
    "print(arr2d.T)"
   ]
  },
  {
   "cell_type": "code",
   "execution_count": null,
   "metadata": {},
   "outputs": [],
   "source": []
  },
  {
   "cell_type": "markdown",
   "metadata": {},
   "source": [
    "# 조건적 인덱싱\n",
    "- where(): 조건에 해당하는 인덱스 추출\n",
    "- delete(): 특정 인덱스 삭제"
   ]
  },
  {
   "cell_type": "code",
   "execution_count": 46,
   "metadata": {},
   "outputs": [
    {
     "name": "stdout",
     "output_type": "stream",
     "text": [
      "[[ 1  2  3  4]\n",
      " [ 5  6  7  8]\n",
      " [ 9 10 11 12]\n",
      " [13 14 15 16]]\n",
      "\n",
      "condition:  [[False False False False]\n",
      " [False False False False]\n",
      " [False False  True  True]\n",
      " [ True  True  True  True]]\n",
      "\n",
      "요소값이 10을 초과한 인덱스:  (array([2, 2, 3, 3, 3, 3], dtype=int64), array([2, 3, 0, 1, 2, 3], dtype=int64))\n",
      "\n",
      "newArr: [11 12 13 14 15 16]\n",
      "\n",
      "newArr2: [[ 5  6  7  8]\n",
      " [ 9 10 11 12]\n",
      " [13 14 15 16]]\n",
      "newArr3: [[ 1  4]\n",
      " [ 5  8]\n",
      " [ 9 12]\n",
      " [13 16]]\n"
     ]
    }
   ],
   "source": [
    "# 조건적 인덱싱\n",
    "arr = np.arange(1, 17).reshape(4, 4)\n",
    "print(arr)\n",
    "print(\"\")\n",
    "\n",
    "# 요소값이 10초과인 요소 확인\n",
    "print(\"condition: \", arr > 10)  # 브로드캐스팅 연산\n",
    "print(\"\")\n",
    "\n",
    "# boolean 값을 확인\n",
    "# boolean 값을 인덱스로 부여하면 True 셀만 출력\n",
    "indexes = np.where(arr > 10)\n",
    "print(\"요소값이 10을 초과한 인덱스: \", indexes)\n",
    "print(\"\")\n",
    "\n",
    "newArr = arr[indexes]\n",
    "print(\"newArr:\", newArr)\n",
    "print(\"\")\n",
    "\n",
    "# delete: 특정 인덱스의 요소를 삭제\n",
    "# 축의 정보가 중요\n",
    "newArr2 = np.delete(arr, [0], axis=0)      # 0번 행 삭제\n",
    "print(\"newArr2:\", newArr2)\n",
    "\n",
    "# 1번 2번 열 삭제\n",
    "newArr3 = np.delete(arr, [1, 2], axis=1)   # 2번, 3번 열 삭제\n",
    "print(\"newArr3:\", newArr3)"
   ]
  },
  {
   "cell_type": "markdown",
   "metadata": {},
   "source": [
    "# Boolean 배열 인덱싱\n",
    "- 논리 연산을 수행하여 복수의 조건을 만족하는 인덱스를 추출해내는 방법\n",
    "- numpy 배열 boolean 연산에서는 &(and), |(or), ~(not) 연산자를 사용 가능\n",
    "- Boolean 배열 인덱싱 참조: https://docs.scipy.org/doc/numpy/reference/arrays.indexing.html"
   ]
  },
  {
   "cell_type": "code",
   "execution_count": 57,
   "metadata": {},
   "outputs": [
    {
     "name": "stdout",
     "output_type": "stream",
     "text": [
      "[[ 1  2  3  4]\n",
      " [ 5  6  7  8]\n",
      " [ 9 10 11 12]\n",
      " [13 14 15 16]]\n",
      "\n",
      "[ 4  5  6  7  8  9 10 11 12 13 14 15 16]\n",
      "[1 2 3 4 5 6]\n",
      "\n",
      "[[False False False  True]\n",
      " [ True  True False False]\n",
      " [False False False False]\n",
      " [False False False False]]\n",
      "[4 5 6]\n",
      "\n",
      "[[False False  True False]\n",
      " [False  True False False]\n",
      " [ True False False  True]\n",
      " [False False  True False]]\n",
      "[ 3  6  9 12 15]\n"
     ]
    }
   ],
   "source": [
    "# Boolean 배열 인덱싱\n",
    "source = np.arange(1, 17).reshape(4, 4)   # 1 ~ 16까지 4 * 4 배열\n",
    "print(source)\n",
    "print(\"\")\n",
    "\n",
    "# 요사 값이 3보다 큰 값\n",
    "cp = source.copy()\n",
    "index_gt_3 = cp > 3\n",
    "print(cp[index_gt_3])\n",
    "\n",
    "# 요소 값이 7보다 작은 값\n",
    "index_lt_7 = cp < 7\n",
    "print(cp[index_lt_7])\n",
    "print(\"\")\n",
    "\n",
    "# 두 논리의 합성 (연산자 주의!)\n",
    "index_comp = (cp > 3) & (cp < 7)\n",
    "print(index_comp)\n",
    "print(cp[index_comp])\n",
    "print(\"\")\n",
    "\n",
    "# 요소들 중에서 3의 배수인 요소들만 추출\n",
    "index_mod = cp % 3 == 0\n",
    "print(index_mod)\n",
    "print(cp[index_mod])"
   ]
  },
  {
   "cell_type": "markdown",
   "metadata": {},
   "source": [
    "# 배열 연산\n",
    "- 기본적 수학 함수는 배열의 각 요소별로 동작\n",
    "- 연산자를 이용, 동작하거나 numpy 함수 모듈을 이용하여 사용"
   ]
  },
  {
   "cell_type": "code",
   "execution_count": 62,
   "metadata": {},
   "outputs": [
    {
     "name": "stdout",
     "output_type": "stream",
     "text": [
      "[[1 2]\n",
      " [3 4]]\n",
      "[[5 6]\n",
      " [7 8]]\n",
      "[[ 6  8]\n",
      " [10 12]]\n",
      "[[ 6  8]\n",
      " [10 12]]\n",
      "[[-4 -4]\n",
      " [-4 -4]]\n",
      "[[-4 -4]\n",
      " [-4 -4]]\n",
      "[[ 5 12]\n",
      " [21 32]]\n",
      "[[ 5 12]\n",
      " [21 32]]\n",
      "[[0.2        0.33333333]\n",
      " [0.42857143 0.5       ]]\n",
      "[[0.2        0.33333333]\n",
      " [0.42857143 0.5       ]]\n"
     ]
    }
   ],
   "source": [
    "# 배열 연산\n",
    "x = np.arange(1, 5).reshape(2, 2)\n",
    "y = np.arange(5, 9).reshape(2, 2)\n",
    "\n",
    "print(x)\n",
    "print(y)\n",
    "\n",
    "# 배열과 배열의 합\n",
    "print(x + y)\n",
    "print(np.add(x, y))\n",
    "\n",
    "# 배열과 배열의 차\n",
    "print(x - y)\n",
    "print(np.subtract(x, y))\n",
    "\n",
    "# 배열과 배열의 곱\n",
    "print(x * y)\n",
    "print(np.multiply(x, y))\n",
    "\n",
    "# 배열과 배열의 곱\n",
    "print(x / y)\n",
    "print(np.divide(x, y))"
   ]
  },
  {
   "cell_type": "markdown",
   "metadata": {},
   "source": [
    "# numpy 행렬 곱\n",
    "- *, multiply는 기본적으로 요소의 곱\n",
    "- 벡터의 내적, 벡터와 행렬의 곱, 행렬곱을 위해서는 dot 함수 사용\n",
    "- dot 메소드는 모듈 함수, 배열 객체의 인스턴스 양쪽 모두 사용 가능"
   ]
  },
  {
   "cell_type": "code",
   "execution_count": 71,
   "metadata": {},
   "outputs": [
    {
     "name": "stdout",
     "output_type": "stream",
     "text": [
      "219\n",
      "219\n",
      "\n",
      "[[1 2]\n",
      " [3 4]]\n",
      "[ 9 10]\n",
      "행렬 * 벡터: [29 67]\n",
      "행렬 * 벡터: [29 67]\n",
      "\n",
      "[[1 2]\n",
      " [3 4]]\n",
      "[[5 6]\n",
      " [7 8]]\n",
      "[[19 22]\n",
      " [43 50]]\n",
      "[[19 22]\n",
      " [43 50]]\n"
     ]
    }
   ],
   "source": [
    "# numpy 행렬 곱\n",
    "v1 = np.array([9, 10])\n",
    "v2 = np.array([11, 12])\n",
    "\n",
    "# 벡터의 내적\n",
    "print(v1.dot(v2))\n",
    "print(np.dot(v1, v2))\n",
    "print(\"\")\n",
    "\n",
    "# 행렬과 벡터의 곱\n",
    "x = np.arange(1, 5).reshape(2, 2)\n",
    "print(x)\n",
    "print(v1)\n",
    "print(\"행렬 * 벡터:\", x.dot(v1))\n",
    "print(\"행렬 * 벡터:\", np.dot(x, v1))\n",
    "print(\"\")\n",
    "\n",
    "# 행렬과 행렬의 내적(중요)\n",
    "y = np.arange(5, 9).reshape(2, 2)\n",
    "print(x)\n",
    "print(y)\n",
    "print(x.dot(y))\n",
    "print(np.dot(x, y))"
   ]
  },
  {
   "cell_type": "markdown",
   "metadata": {},
   "source": [
    "# array 연산 함수\n",
    "- numpy는 배열 연산에 "
   ]
  },
  {
   "cell_type": "code",
   "execution_count": 76,
   "metadata": {},
   "outputs": [
    {
     "name": "stdout",
     "output_type": "stream",
     "text": [
      "[[ 1  2  3]\n",
      " [ 4  5  6]\n",
      " [ 7  8  9]\n",
      " [10 11 12]]\n",
      "sum: 78\n",
      "\n",
      "[22 26 30]\n",
      "[ 6 15 24 33]\n"
     ]
    }
   ],
   "source": [
    "# array 연산 함수 중, sum 함수를 활용\n",
    "x = np.arange(1, 13).reshape(4, 3)\n",
    "print(x)\n",
    "print(\"sum:\", x.sum())\n",
    "print(\"\")\n",
    "\n",
    "# axis로 연산 함수를 적용할 축을 지정\n",
    "print(np.sum(x, axis=0))   # 각 열의 합산 값(행의 방향)\n",
    "print(np.sum(x, axis=1))   # 각 행의 합산 값(열의 방향)\n"
   ]
  },
  {
   "cell_type": "code",
   "execution_count": 82,
   "metadata": {},
   "outputs": [
    {
     "name": "stdout",
     "output_type": "stream",
     "text": [
      "[[ 0  1  2  3]\n",
      " [ 4  5  6  7]\n",
      " [ 8  9 10 11]]\n",
      "\n",
      "[[ 2  3  4  5]\n",
      " [ 6  7  8  9]\n",
      " [10 11 12 13]]\n",
      "\n",
      "[1 2 3 4]\n",
      "[[ 1  3  5  7]\n",
      " [ 5  7  9 11]\n",
      " [ 9 11 13 15]]\n"
     ]
    }
   ],
   "source": [
    "# 브로드캐스팅\n",
    "# 배열과 스칼라의 연산\n",
    "x = np.arange(12).reshape(3, 4)\n",
    "print(x)\n",
    "print(\"\")\n",
    "\n",
    "# 각 요소에 동일한 값을 더하기\n",
    "print(x + 2)\n",
    "print(\"\")\n",
    "\n",
    "# 배열과 배열의 브로드캐스팅\n",
    "y = np.array([1, 2, 3, 4])\n",
    "print(y)\n",
    "print(x + y)"
   ]
  },
  {
   "cell_type": "code",
   "execution_count": 100,
   "metadata": {
    "scrolled": true
   },
   "outputs": [
    {
     "name": "stdout",
     "output_type": "stream",
     "text": [
      "6\n",
      "[52 93 15 72 61 21 83 87 75 75]\n",
      "\n",
      "[[ 0.27904129  1.01051528 -0.58087813]\n",
      " [-0.52516981 -0.57138017 -0.92408284]\n",
      " [-2.61254901  0.95036968  0.81644508]]\n",
      "\n",
      "-1.523875997615861\n",
      "\n",
      "[[-0.42804606 -0.74240684]\n",
      " [-0.7033438  -2.13962066]]\n",
      "\n",
      "[-1.88842488  1.7931614   7.67846409  1.18269907  0.3666575  -1.54630699\n",
      " -1.80076155  2.84231946  0.873102   -1.90667922 -3.06465658 -0.48526616\n",
      " -1.60094641 -0.01658359 -0.68835136  1.16804674 -3.79535734  3.27597679\n",
      "  8.33493912  3.58091917  0.65591495  2.64528312 -3.02725603 -4.74988264\n",
      "  2.32110125 -1.61442498 -4.04003429 -2.6417738  -3.39165691  0.40328665\n",
      "  1.74636838  2.66324538  2.68299699  2.26499339 -0.62149767 -1.87043218\n",
      " -4.52445987  3.29894093 -0.53319636 -1.23114993  3.53914903 -2.69462382\n",
      "  2.50438626  0.88968415 -3.11348963 -0.22741124  2.9188906   2.38678639\n",
      "  4.48630276  1.01454376 10.11688876 -2.76117242 -1.19591517 -0.18259226\n",
      " -4.25625138  3.12747485  2.71059747  0.05700099 -1.60324936 -4.48516161\n",
      " -2.36777499  2.23113385 -0.63648427 -1.28060638  1.50434499  3.47455996\n",
      "  0.77135061  0.94353869  4.1155864   0.52665988 -0.92786564  2.01937651\n",
      " -0.76989055 -1.10347717  3.82120086 -0.87585801 -7.96552814  1.03655383\n",
      " -1.18654935 -0.86741057  1.35880898 -0.49818273  0.64481649 -6.0669448\n",
      " -2.82917043  4.21187622 -0.05565241 -5.02051387 -3.2175955  -2.97775854\n",
      "  0.30704305 -1.29782784 -1.97754691  0.01181191  1.4332623  -0.77708593\n",
      " -1.72412762 -1.26449466  1.01946289 -0.02214045]\n"
     ]
    },
    {
     "data": {
      "image/png": "[encoded data removed]",
      "text/plain": [
       "<Figure size 432x288 with 1 Axes>"
      ]
     },
     "metadata": {
      "needs_background": "light"
     },
     "output_type": "display_data"
    }
   ],
   "source": [
    "# 기본적인 난수 발생과 분포 기반 난수\n",
    "np.random.seed(seed=42)  # 재현 가능성을 위한 난수 초기값\n",
    "\n",
    "# 정수 난수\n",
    "print(np.random.randint(10))  # 10이하의 정수 난수\n",
    "print(np.random.randint(1, 101, 10))  # 1 ~ 100 사이의 정수 난수 10개 생성\n",
    "print(\"\")\n",
    "\n",
    "# n차원 난수 발생\n",
    "print(np.random.randn(3, 3))  # 3 * 3의 난수 행렬 생성\n",
    "print(\"\")\n",
    "\n",
    "# 정규 분포 기반 난수 발생\n",
    "print(np.random.normal())\n",
    "print(\"\")\n",
    "\n",
    "# size 옵션 파라미터로 난수의 행렬 크기를 지정\n",
    "print(np.random.normal(size=(2, 2)))   # 2 * 2의 정규분포 기반 난수 행렬\n",
    "print(\"\")\n",
    "\n",
    "# 평균이 0이고 표준편차가 3인 정규 분포로부터 난수 100개 생성\n",
    "rand_norm = np.random.normal(0.0,      # 평균\n",
    "                            3.0,       # 표준편차\n",
    "                            size=100   # 표본의 개수\n",
    "                            )\n",
    "print(rand_norm)\n",
    "\n",
    "# 히스토그램 (정규 분포 기반이므로 종형 그래프가 나올 것)\n",
    "import matplotlib.pyplot as plt\n",
    "\n",
    "plt.hist(rand_norm)\n",
    "plt.show()"
   ]
  },
  {
   "cell_type": "code",
   "execution_count": 102,
   "metadata": {},
   "outputs": [
    {
     "name": "stdout",
     "output_type": "stream",
     "text": [
      "(1000, 1000)\n"
     ]
    }
   ],
   "source": [
    "# numpy 파일 저장 불러우기\n",
    "original = np.random.randn(1000, 1000)\n",
    "\n",
    "# 확장자를 지정하지 않아도 적절한 확장자가 지정\n",
    "np.save(\"npydata\", original)   # original 객체를 npydata.npy로 저장\n",
    "\n",
    "# 불러오기 (복원)\n",
    "recover = np.load(\"npydata.npy\")\n",
    "print(recover.shape)"
   ]
  }
 ],
 "metadata": {
  "kernelspec": {
   "display_name": "Python 3",
   "language": "python",
   "name": "python3"
  },
  "language_info": {
   "codemirror_mode": {
    "name": "ipython",
    "version": 3
   },
   "file_extension": ".py",
   "mimetype": "text/x-python",
   "name": "python",
   "nbconvert_exporter": "python",
   "pygments_lexer": "ipython3",
   "version": "3.7.3"
  }
 },
 "nbformat": 4,
 "nbformat_minor": 4
}
